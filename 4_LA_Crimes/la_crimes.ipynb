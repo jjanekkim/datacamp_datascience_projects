{
 "cells": [
  {
   "cell_type": "markdown",
   "metadata": {},
   "source": [
    "# Analyzing Crime in Los Angeles"
   ]
  },
  {
   "cell_type": "markdown",
   "metadata": {},
   "source": [
    "Los Angeles, California 😎. The City of Angels. Tinseltown. The Entertainment Capital of the World! \n",
    "\n",
    "Known for its warm weather, palm trees, sprawling coastline, and Hollywood, along with producing some of the most iconic films and songs. However, as with any highly populated city, it isn't always glamorous and there can be a large volume of crime. That's where you can help!\n",
    "\n",
    "You have been asked to support the Los Angeles Police Department (LAPD) by analyzing crime data to identify patterns in criminal behavior. They plan to use your insights to allocate resources effectively to tackle various crimes in different areas.\n",
    "\n",
    "## The Data\n",
    "\n",
    "They have provided you with a single dataset to use. A summary and preview are provided below.\n",
    "\n",
    "It is a modified version of the original data, which is publicly available from Los Angeles Open Data.\n",
    "\n",
    "# crimes.csv\n",
    "\n",
    "| Column     | Description              |\n",
    "|------------|--------------------------|\n",
    "| `'DR_NO'` | Division of Records Number: Official file number made up of a 2-digit year, area ID, and 5 digits. |\n",
    "| `'Date Rptd'` | Date reported - MM/DD/YYYY. |\n",
    "| `'DATE OCC'` | Date of occurrence - MM/DD/YYYY. |\n",
    "| `'TIME OCC'` | In 24-hour military time. |\n",
    "| `'AREA NAME'` | The 21 Geographic Areas or Patrol Divisions are also given a name designation that references a landmark or the surrounding community that it is responsible for. For example, the 77th Street Division is located at the intersection of South Broadway and 77th Street, serving neighborhoods in South Los Angeles. |\n",
    "| `'Crm Cd Desc'` | Indicates the crime committed. |\n",
    "| `'Vict Age'` | Victim's age in years. |\n",
    "| `'Vict Sex'` | Victim's sex: `F`: Female, `M`: Male, `X`: Unknown. |\n",
    "| `'Vict Descent'` | Victim's descent:<ul><li>`A` - Other Asian</li><li>`B` - Black</li><li>`C` - Chinese</li><li>`D` - Cambodian</li><li>`F` - Filipino</li><li>`G` - Guamanian</li><li>`H` - Hispanic/Latin/Mexican</li><li>`I` - American Indian/Alaskan Native</li><li>`J` - Japanese</li><li>`K` - Korean</li><li>`L` - Laotian</li><li>`O` - Other</li><li>`P` - Pacific Islander</li><li>`S` - Samoan</li><li>`U` - Hawaiian</li><li>`V` - Vietnamese</li><li>`W` - White</li><li>`X` - Unknown</li><li>`Z` - Asian Indian</li> |\n",
    "| `'Weapon Desc'` | Description of the weapon used (if applicable). |\n",
    "| `'Status Desc'` | Crime status. |\n",
    "| `'LOCATION'` | Street address of the crime. |"
   ]
  },
  {
   "cell_type": "code",
   "execution_count": 6,
   "metadata": {},
   "outputs": [],
   "source": [
    "import pandas as pd\n",
    "import numpy as np\n",
    "import matplotlib.pyplot as plt\n",
    "import seaborn as sns"
   ]
  },
  {
   "cell_type": "code",
   "execution_count": 2,
   "metadata": {},
   "outputs": [
    {
     "data": {
      "text/html": [
       "<div>\n",
       "<style scoped>\n",
       "    .dataframe tbody tr th:only-of-type {\n",
       "        vertical-align: middle;\n",
       "    }\n",
       "\n",
       "    .dataframe tbody tr th {\n",
       "        vertical-align: top;\n",
       "    }\n",
       "\n",
       "    .dataframe thead th {\n",
       "        text-align: right;\n",
       "    }\n",
       "</style>\n",
       "<table border=\"1\" class=\"dataframe\">\n",
       "  <thead>\n",
       "    <tr style=\"text-align: right;\">\n",
       "      <th></th>\n",
       "      <th>DR_NO</th>\n",
       "      <th>Date Rptd</th>\n",
       "      <th>DATE OCC</th>\n",
       "      <th>TIME OCC</th>\n",
       "      <th>AREA NAME</th>\n",
       "      <th>Crm Cd Desc</th>\n",
       "      <th>Vict Age</th>\n",
       "      <th>Vict Sex</th>\n",
       "      <th>Vict Descent</th>\n",
       "      <th>Weapon Desc</th>\n",
       "      <th>Status Desc</th>\n",
       "      <th>LOCATION</th>\n",
       "    </tr>\n",
       "  </thead>\n",
       "  <tbody>\n",
       "    <tr>\n",
       "      <th>0</th>\n",
       "      <td>221412410</td>\n",
       "      <td>2022-06-15</td>\n",
       "      <td>2020-11-12</td>\n",
       "      <td>1700</td>\n",
       "      <td>Pacific</td>\n",
       "      <td>THEFT FROM MOTOR VEHICLE - PETTY ($950 &amp; UNDER)</td>\n",
       "      <td>0</td>\n",
       "      <td>NaN</td>\n",
       "      <td>NaN</td>\n",
       "      <td>NaN</td>\n",
       "      <td>Invest Cont</td>\n",
       "      <td>13600    MARINA POINT                 DR</td>\n",
       "    </tr>\n",
       "    <tr>\n",
       "      <th>1</th>\n",
       "      <td>220314085</td>\n",
       "      <td>2022-07-22</td>\n",
       "      <td>2020-05-12</td>\n",
       "      <td>1110</td>\n",
       "      <td>Southwest</td>\n",
       "      <td>THEFT OF IDENTITY</td>\n",
       "      <td>27</td>\n",
       "      <td>F</td>\n",
       "      <td>B</td>\n",
       "      <td>NaN</td>\n",
       "      <td>Invest Cont</td>\n",
       "      <td>2500 S  SYCAMORE                     AV</td>\n",
       "    </tr>\n",
       "    <tr>\n",
       "      <th>2</th>\n",
       "      <td>222013040</td>\n",
       "      <td>2022-08-06</td>\n",
       "      <td>2020-06-04</td>\n",
       "      <td>1620</td>\n",
       "      <td>Olympic</td>\n",
       "      <td>THEFT OF IDENTITY</td>\n",
       "      <td>60</td>\n",
       "      <td>M</td>\n",
       "      <td>H</td>\n",
       "      <td>NaN</td>\n",
       "      <td>Invest Cont</td>\n",
       "      <td>3300    SAN MARINO                   ST</td>\n",
       "    </tr>\n",
       "    <tr>\n",
       "      <th>3</th>\n",
       "      <td>220614831</td>\n",
       "      <td>2022-08-18</td>\n",
       "      <td>2020-08-17</td>\n",
       "      <td>1200</td>\n",
       "      <td>Hollywood</td>\n",
       "      <td>THEFT OF IDENTITY</td>\n",
       "      <td>28</td>\n",
       "      <td>M</td>\n",
       "      <td>H</td>\n",
       "      <td>NaN</td>\n",
       "      <td>Invest Cont</td>\n",
       "      <td>1900    TRANSIENT</td>\n",
       "    </tr>\n",
       "    <tr>\n",
       "      <th>4</th>\n",
       "      <td>231207725</td>\n",
       "      <td>2023-02-27</td>\n",
       "      <td>2020-01-27</td>\n",
       "      <td>635</td>\n",
       "      <td>77th Street</td>\n",
       "      <td>THEFT OF IDENTITY</td>\n",
       "      <td>37</td>\n",
       "      <td>M</td>\n",
       "      <td>H</td>\n",
       "      <td>NaN</td>\n",
       "      <td>Invest Cont</td>\n",
       "      <td>6200    4TH                          AV</td>\n",
       "    </tr>\n",
       "  </tbody>\n",
       "</table>\n",
       "</div>"
      ],
      "text/plain": [
       "       DR_NO   Date Rptd    DATE OCC  TIME OCC    AREA NAME   \n",
       "0  221412410  2022-06-15  2020-11-12      1700      Pacific  \\\n",
       "1  220314085  2022-07-22  2020-05-12      1110    Southwest   \n",
       "2  222013040  2022-08-06  2020-06-04      1620      Olympic   \n",
       "3  220614831  2022-08-18  2020-08-17      1200    Hollywood   \n",
       "4  231207725  2023-02-27  2020-01-27       635  77th Street   \n",
       "\n",
       "                                       Crm Cd Desc  Vict Age Vict Sex   \n",
       "0  THEFT FROM MOTOR VEHICLE - PETTY ($950 & UNDER)         0      NaN  \\\n",
       "1                                THEFT OF IDENTITY        27        F   \n",
       "2                                THEFT OF IDENTITY        60        M   \n",
       "3                                THEFT OF IDENTITY        28        M   \n",
       "4                                THEFT OF IDENTITY        37        M   \n",
       "\n",
       "  Vict Descent Weapon Desc  Status Desc   \n",
       "0          NaN         NaN  Invest Cont  \\\n",
       "1            B         NaN  Invest Cont   \n",
       "2            H         NaN  Invest Cont   \n",
       "3            H         NaN  Invest Cont   \n",
       "4            H         NaN  Invest Cont   \n",
       "\n",
       "                                   LOCATION  \n",
       "0  13600    MARINA POINT                 DR  \n",
       "1   2500 S  SYCAMORE                     AV  \n",
       "2   3300    SAN MARINO                   ST  \n",
       "3                         1900    TRANSIENT  \n",
       "4   6200    4TH                          AV  "
      ]
     },
     "execution_count": 2,
     "metadata": {},
     "output_type": "execute_result"
    }
   ],
   "source": [
    "crimes = pd.read_csv(r'C:\\Users\\nene0\\OneDrive\\바탕 화면\\Python Learning\\Datacamp\\4_LA_Crimes\\crimes.csv')\n",
    "\n",
    "crimes.head()"
   ]
  },
  {
   "cell_type": "code",
   "execution_count": 3,
   "metadata": {},
   "outputs": [
    {
     "name": "stdout",
     "output_type": "stream",
     "text": [
      "<class 'pandas.core.frame.DataFrame'>\n",
      "RangeIndex: 247988 entries, 0 to 247987\n",
      "Data columns (total 12 columns):\n",
      " #   Column        Non-Null Count   Dtype \n",
      "---  ------        --------------   ----- \n",
      " 0   DR_NO         247988 non-null  int64 \n",
      " 1   Date Rptd     247988 non-null  object\n",
      " 2   DATE OCC      247988 non-null  object\n",
      " 3   TIME OCC      247988 non-null  int64 \n",
      " 4   AREA NAME     247988 non-null  object\n",
      " 5   Crm Cd Desc   247988 non-null  object\n",
      " 6   Vict Age      247988 non-null  int64 \n",
      " 7   Vict Sex      215740 non-null  object\n",
      " 8   Vict Descent  215739 non-null  object\n",
      " 9   Weapon Desc   80087 non-null   object\n",
      " 10  Status Desc   247988 non-null  object\n",
      " 11  LOCATION      247988 non-null  object\n",
      "dtypes: int64(3), object(9)\n",
      "memory usage: 22.7+ MB\n"
     ]
    }
   ],
   "source": [
    "crimes.info()"
   ]
  },
  {
   "cell_type": "code",
   "execution_count": 4,
   "metadata": {},
   "outputs": [
    {
     "data": {
      "text/html": [
       "<div>\n",
       "<style scoped>\n",
       "    .dataframe tbody tr th:only-of-type {\n",
       "        vertical-align: middle;\n",
       "    }\n",
       "\n",
       "    .dataframe tbody tr th {\n",
       "        vertical-align: top;\n",
       "    }\n",
       "\n",
       "    .dataframe thead th {\n",
       "        text-align: right;\n",
       "    }\n",
       "</style>\n",
       "<table border=\"1\" class=\"dataframe\">\n",
       "  <thead>\n",
       "    <tr style=\"text-align: right;\">\n",
       "      <th></th>\n",
       "      <th>DR_NO</th>\n",
       "      <th>TIME OCC</th>\n",
       "      <th>Vict Age</th>\n",
       "    </tr>\n",
       "  </thead>\n",
       "  <tbody>\n",
       "    <tr>\n",
       "      <th>count</th>\n",
       "      <td>2.479880e+05</td>\n",
       "      <td>247988.000000</td>\n",
       "      <td>247988.000000</td>\n",
       "    </tr>\n",
       "    <tr>\n",
       "      <th>mean</th>\n",
       "      <td>2.256571e+08</td>\n",
       "      <td>1317.184662</td>\n",
       "      <td>29.954764</td>\n",
       "    </tr>\n",
       "    <tr>\n",
       "      <th>std</th>\n",
       "      <td>5.042345e+06</td>\n",
       "      <td>655.090477</td>\n",
       "      <td>21.901016</td>\n",
       "    </tr>\n",
       "    <tr>\n",
       "      <th>min</th>\n",
       "      <td>2.203000e+03</td>\n",
       "      <td>1.000000</td>\n",
       "      <td>-2.000000</td>\n",
       "    </tr>\n",
       "    <tr>\n",
       "      <th>25%</th>\n",
       "      <td>2.210130e+08</td>\n",
       "      <td>845.000000</td>\n",
       "      <td>0.000000</td>\n",
       "    </tr>\n",
       "    <tr>\n",
       "      <th>50%</th>\n",
       "      <td>2.220131e+08</td>\n",
       "      <td>1400.000000</td>\n",
       "      <td>31.000000</td>\n",
       "    </tr>\n",
       "    <tr>\n",
       "      <th>75%</th>\n",
       "      <td>2.310058e+08</td>\n",
       "      <td>1843.000000</td>\n",
       "      <td>45.000000</td>\n",
       "    </tr>\n",
       "    <tr>\n",
       "      <th>max</th>\n",
       "      <td>2.399165e+08</td>\n",
       "      <td>2359.000000</td>\n",
       "      <td>99.000000</td>\n",
       "    </tr>\n",
       "  </tbody>\n",
       "</table>\n",
       "</div>"
      ],
      "text/plain": [
       "              DR_NO       TIME OCC       Vict Age\n",
       "count  2.479880e+05  247988.000000  247988.000000\n",
       "mean   2.256571e+08    1317.184662      29.954764\n",
       "std    5.042345e+06     655.090477      21.901016\n",
       "min    2.203000e+03       1.000000      -2.000000\n",
       "25%    2.210130e+08     845.000000       0.000000\n",
       "50%    2.220131e+08    1400.000000      31.000000\n",
       "75%    2.310058e+08    1843.000000      45.000000\n",
       "max    2.399165e+08    2359.000000      99.000000"
      ]
     },
     "execution_count": 4,
     "metadata": {},
     "output_type": "execute_result"
    }
   ],
   "source": [
    "crimes.describe()"
   ]
  },
  {
   "cell_type": "code",
   "execution_count": 10,
   "metadata": {},
   "outputs": [
    {
     "data": {
      "text/plain": [
       "array([1700, 1110, 1620, ...,  528,  514,  156], dtype=int64)"
      ]
     },
     "execution_count": 10,
     "metadata": {},
     "output_type": "execute_result"
    }
   ],
   "source": [
    "crimes['TIME OCC'].unique()"
   ]
  },
  {
   "cell_type": "code",
   "execution_count": 19,
   "metadata": {},
   "outputs": [
    {
     "data": {
      "text/html": [
       "<div>\n",
       "<style scoped>\n",
       "    .dataframe tbody tr th:only-of-type {\n",
       "        vertical-align: middle;\n",
       "    }\n",
       "\n",
       "    .dataframe tbody tr th {\n",
       "        vertical-align: top;\n",
       "    }\n",
       "\n",
       "    .dataframe thead th {\n",
       "        text-align: right;\n",
       "    }\n",
       "</style>\n",
       "<table border=\"1\" class=\"dataframe\">\n",
       "  <thead>\n",
       "    <tr style=\"text-align: right;\">\n",
       "      <th></th>\n",
       "      <th>DR_NO</th>\n",
       "      <th>Date Rptd</th>\n",
       "      <th>DATE OCC</th>\n",
       "      <th>TIME OCC</th>\n",
       "      <th>AREA NAME</th>\n",
       "      <th>Crm Cd Desc</th>\n",
       "      <th>Vict Age</th>\n",
       "      <th>Vict Sex</th>\n",
       "      <th>Vict Descent</th>\n",
       "      <th>Weapon Desc</th>\n",
       "      <th>Status Desc</th>\n",
       "      <th>LOCATION</th>\n",
       "      <th>Hour</th>\n",
       "    </tr>\n",
       "  </thead>\n",
       "  <tbody>\n",
       "    <tr>\n",
       "      <th>0</th>\n",
       "      <td>221412410</td>\n",
       "      <td>2022-06-15</td>\n",
       "      <td>2020-11-12</td>\n",
       "      <td>1700</td>\n",
       "      <td>Pacific</td>\n",
       "      <td>THEFT FROM MOTOR VEHICLE - PETTY ($950 &amp; UNDER)</td>\n",
       "      <td>0</td>\n",
       "      <td>NaN</td>\n",
       "      <td>NaN</td>\n",
       "      <td>NaN</td>\n",
       "      <td>Invest Cont</td>\n",
       "      <td>13600    MARINA POINT                 DR</td>\n",
       "      <td>17.0</td>\n",
       "    </tr>\n",
       "    <tr>\n",
       "      <th>1</th>\n",
       "      <td>220314085</td>\n",
       "      <td>2022-07-22</td>\n",
       "      <td>2020-05-12</td>\n",
       "      <td>1110</td>\n",
       "      <td>Southwest</td>\n",
       "      <td>THEFT OF IDENTITY</td>\n",
       "      <td>27</td>\n",
       "      <td>F</td>\n",
       "      <td>B</td>\n",
       "      <td>NaN</td>\n",
       "      <td>Invest Cont</td>\n",
       "      <td>2500 S  SYCAMORE                     AV</td>\n",
       "      <td>11.0</td>\n",
       "    </tr>\n",
       "    <tr>\n",
       "      <th>2</th>\n",
       "      <td>222013040</td>\n",
       "      <td>2022-08-06</td>\n",
       "      <td>2020-06-04</td>\n",
       "      <td>1620</td>\n",
       "      <td>Olympic</td>\n",
       "      <td>THEFT OF IDENTITY</td>\n",
       "      <td>60</td>\n",
       "      <td>M</td>\n",
       "      <td>H</td>\n",
       "      <td>NaN</td>\n",
       "      <td>Invest Cont</td>\n",
       "      <td>3300    SAN MARINO                   ST</td>\n",
       "      <td>16.0</td>\n",
       "    </tr>\n",
       "    <tr>\n",
       "      <th>3</th>\n",
       "      <td>220614831</td>\n",
       "      <td>2022-08-18</td>\n",
       "      <td>2020-08-17</td>\n",
       "      <td>1200</td>\n",
       "      <td>Hollywood</td>\n",
       "      <td>THEFT OF IDENTITY</td>\n",
       "      <td>28</td>\n",
       "      <td>M</td>\n",
       "      <td>H</td>\n",
       "      <td>NaN</td>\n",
       "      <td>Invest Cont</td>\n",
       "      <td>1900    TRANSIENT</td>\n",
       "      <td>12.0</td>\n",
       "    </tr>\n",
       "    <tr>\n",
       "      <th>4</th>\n",
       "      <td>231207725</td>\n",
       "      <td>2023-02-27</td>\n",
       "      <td>2020-01-27</td>\n",
       "      <td>635</td>\n",
       "      <td>77th Street</td>\n",
       "      <td>THEFT OF IDENTITY</td>\n",
       "      <td>37</td>\n",
       "      <td>M</td>\n",
       "      <td>H</td>\n",
       "      <td>NaN</td>\n",
       "      <td>Invest Cont</td>\n",
       "      <td>6200    4TH                          AV</td>\n",
       "      <td>6.0</td>\n",
       "    </tr>\n",
       "  </tbody>\n",
       "</table>\n",
       "</div>"
      ],
      "text/plain": [
       "       DR_NO   Date Rptd    DATE OCC  TIME OCC    AREA NAME   \n",
       "0  221412410  2022-06-15  2020-11-12      1700      Pacific  \\\n",
       "1  220314085  2022-07-22  2020-05-12      1110    Southwest   \n",
       "2  222013040  2022-08-06  2020-06-04      1620      Olympic   \n",
       "3  220614831  2022-08-18  2020-08-17      1200    Hollywood   \n",
       "4  231207725  2023-02-27  2020-01-27       635  77th Street   \n",
       "\n",
       "                                       Crm Cd Desc  Vict Age Vict Sex   \n",
       "0  THEFT FROM MOTOR VEHICLE - PETTY ($950 & UNDER)         0      NaN  \\\n",
       "1                                THEFT OF IDENTITY        27        F   \n",
       "2                                THEFT OF IDENTITY        60        M   \n",
       "3                                THEFT OF IDENTITY        28        M   \n",
       "4                                THEFT OF IDENTITY        37        M   \n",
       "\n",
       "  Vict Descent Weapon Desc  Status Desc   \n",
       "0          NaN         NaN  Invest Cont  \\\n",
       "1            B         NaN  Invest Cont   \n",
       "2            H         NaN  Invest Cont   \n",
       "3            H         NaN  Invest Cont   \n",
       "4            H         NaN  Invest Cont   \n",
       "\n",
       "                                   LOCATION  Hour  \n",
       "0  13600    MARINA POINT                 DR  17.0  \n",
       "1   2500 S  SYCAMORE                     AV  11.0  \n",
       "2   3300    SAN MARINO                   ST  16.0  \n",
       "3                         1900    TRANSIENT  12.0  \n",
       "4   6200    4TH                          AV   6.0  "
      ]
     },
     "execution_count": 19,
     "metadata": {},
     "output_type": "execute_result"
    }
   ],
   "source": [
    "# Which hour has the highest frequency of crimes? Store as an integer variable called peak_crime_hour.\n",
    "\n",
    "crimes['Hour'] = np.floor(crimes['TIME OCC']/100)\n",
    "\n",
    "crimes.head()"
   ]
  },
  {
   "cell_type": "code",
   "execution_count": 24,
   "metadata": {},
   "outputs": [
    {
     "data": {
      "text/plain": [
       "Hour\n",
       "12.0    17065\n",
       "18.0    14447\n",
       "17.0    14107\n",
       "20.0    13325\n",
       "19.0    13146\n",
       "16.0    12676\n",
       "15.0    12671\n",
       "21.0    12008\n",
       "14.0    11889\n",
       "22.0    11697\n",
       "11.0    11120\n",
       "13.0    11009\n",
       "10.0    10720\n",
       "0.0     10696\n",
       "23.0    10039\n",
       "8.0      9600\n",
       "9.0      9138\n",
       "1.0      7564\n",
       "7.0      7011\n",
       "6.0      7008\n",
       "2.0      6352\n",
       "3.0      5564\n",
       "4.0      4696\n",
       "5.0      4440\n",
       "Name: DR_NO, dtype: int64"
      ]
     },
     "execution_count": 24,
     "metadata": {},
     "output_type": "execute_result"
    }
   ],
   "source": [
    "crimes.groupby('Hour')['DR_NO'].count().sort_values(ascending=False)"
   ]
  },
  {
   "cell_type": "code",
   "execution_count": 22,
   "metadata": {},
   "outputs": [
    {
     "name": "stdout",
     "output_type": "stream",
     "text": [
      "The crimes in Los Angeles most occured at 12 p.m.\n"
     ]
    }
   ],
   "source": [
    "peak_crime_hour = 12\n",
    "\n",
    "print(f'The crimes in Los Angeles most occured at {peak_crime_hour} p.m.')"
   ]
  },
  {
   "cell_type": "code",
   "execution_count": 27,
   "metadata": {},
   "outputs": [
    {
     "data": {
      "text/plain": [
       "AREA NAME\n",
       "Central        4091\n",
       "77th Street    3362\n",
       "Hollywood      3299\n",
       "Newton         2927\n",
       "Southeast      2884\n",
       "Olympic        2851\n",
       "Southwest      2787\n",
       "Pacific        2773\n",
       "N Hollywood    2597\n",
       "Rampart        2480\n",
       "Northeast      2342\n",
       "Wilshire       2243\n",
       "Harbor         2128\n",
       "West Valley    2106\n",
       "Van Nuys       2029\n",
       "Mission        1907\n",
       "Devonshire     1900\n",
       "Hollenbeck     1892\n",
       "West LA        1864\n",
       "Topanga        1743\n",
       "Foothill       1707\n",
       "Name: DR_NO, dtype: int64"
      ]
     },
     "execution_count": 27,
     "metadata": {},
     "output_type": "execute_result"
    }
   ],
   "source": [
    "# Which area has the largest frequency of night crimes (crimes committed between 10pm and 3:59am)?\n",
    "# Save as a string variable called peak_night_crime_location.\n",
    "\n",
    "night_crimes = crimes[(crimes['Hour'] >= 22)|(crimes['Hour'] < 4)]\n",
    "night_crimes.groupby('AREA NAME')['DR_NO'].count().sort_values(ascending=False)"
   ]
  },
  {
   "cell_type": "code",
   "execution_count": 28,
   "metadata": {},
   "outputs": [
    {
     "name": "stdout",
     "output_type": "stream",
     "text": [
      "Central has the most night crimes in Los Angeles.\n"
     ]
    }
   ],
   "source": [
    "peak_night_crime_location = 'Central'\n",
    "\n",
    "print(f'{peak_night_crime_location} has the most night crimes in Los Angeles.')"
   ]
  },
  {
   "cell_type": "code",
   "execution_count": 29,
   "metadata": {},
   "outputs": [
    {
     "data": {
      "text/html": [
       "<div>\n",
       "<style scoped>\n",
       "    .dataframe tbody tr th:only-of-type {\n",
       "        vertical-align: middle;\n",
       "    }\n",
       "\n",
       "    .dataframe tbody tr th {\n",
       "        vertical-align: top;\n",
       "    }\n",
       "\n",
       "    .dataframe thead th {\n",
       "        text-align: right;\n",
       "    }\n",
       "</style>\n",
       "<table border=\"1\" class=\"dataframe\">\n",
       "  <thead>\n",
       "    <tr style=\"text-align: right;\">\n",
       "      <th></th>\n",
       "      <th>DR_NO</th>\n",
       "      <th>Date Rptd</th>\n",
       "      <th>DATE OCC</th>\n",
       "      <th>TIME OCC</th>\n",
       "      <th>AREA NAME</th>\n",
       "      <th>Crm Cd Desc</th>\n",
       "      <th>Vict Age</th>\n",
       "      <th>Vict Sex</th>\n",
       "      <th>Vict Descent</th>\n",
       "      <th>Weapon Desc</th>\n",
       "      <th>Status Desc</th>\n",
       "      <th>LOCATION</th>\n",
       "      <th>Hour</th>\n",
       "      <th>Age Group</th>\n",
       "    </tr>\n",
       "  </thead>\n",
       "  <tbody>\n",
       "    <tr>\n",
       "      <th>0</th>\n",
       "      <td>221412410</td>\n",
       "      <td>2022-06-15</td>\n",
       "      <td>2020-11-12</td>\n",
       "      <td>1700</td>\n",
       "      <td>Pacific</td>\n",
       "      <td>THEFT FROM MOTOR VEHICLE - PETTY ($950 &amp; UNDER)</td>\n",
       "      <td>0</td>\n",
       "      <td>NaN</td>\n",
       "      <td>NaN</td>\n",
       "      <td>NaN</td>\n",
       "      <td>Invest Cont</td>\n",
       "      <td>13600    MARINA POINT                 DR</td>\n",
       "      <td>17.0</td>\n",
       "      <td>NaN</td>\n",
       "    </tr>\n",
       "    <tr>\n",
       "      <th>1</th>\n",
       "      <td>220314085</td>\n",
       "      <td>2022-07-22</td>\n",
       "      <td>2020-05-12</td>\n",
       "      <td>1110</td>\n",
       "      <td>Southwest</td>\n",
       "      <td>THEFT OF IDENTITY</td>\n",
       "      <td>27</td>\n",
       "      <td>F</td>\n",
       "      <td>B</td>\n",
       "      <td>NaN</td>\n",
       "      <td>Invest Cont</td>\n",
       "      <td>2500 S  SYCAMORE                     AV</td>\n",
       "      <td>11.0</td>\n",
       "      <td>26-34</td>\n",
       "    </tr>\n",
       "    <tr>\n",
       "      <th>2</th>\n",
       "      <td>222013040</td>\n",
       "      <td>2022-08-06</td>\n",
       "      <td>2020-06-04</td>\n",
       "      <td>1620</td>\n",
       "      <td>Olympic</td>\n",
       "      <td>THEFT OF IDENTITY</td>\n",
       "      <td>60</td>\n",
       "      <td>M</td>\n",
       "      <td>H</td>\n",
       "      <td>NaN</td>\n",
       "      <td>Invest Cont</td>\n",
       "      <td>3300    SAN MARINO                   ST</td>\n",
       "      <td>16.0</td>\n",
       "      <td>55-64</td>\n",
       "    </tr>\n",
       "    <tr>\n",
       "      <th>3</th>\n",
       "      <td>220614831</td>\n",
       "      <td>2022-08-18</td>\n",
       "      <td>2020-08-17</td>\n",
       "      <td>1200</td>\n",
       "      <td>Hollywood</td>\n",
       "      <td>THEFT OF IDENTITY</td>\n",
       "      <td>28</td>\n",
       "      <td>M</td>\n",
       "      <td>H</td>\n",
       "      <td>NaN</td>\n",
       "      <td>Invest Cont</td>\n",
       "      <td>1900    TRANSIENT</td>\n",
       "      <td>12.0</td>\n",
       "      <td>26-34</td>\n",
       "    </tr>\n",
       "    <tr>\n",
       "      <th>4</th>\n",
       "      <td>231207725</td>\n",
       "      <td>2023-02-27</td>\n",
       "      <td>2020-01-27</td>\n",
       "      <td>635</td>\n",
       "      <td>77th Street</td>\n",
       "      <td>THEFT OF IDENTITY</td>\n",
       "      <td>37</td>\n",
       "      <td>M</td>\n",
       "      <td>H</td>\n",
       "      <td>NaN</td>\n",
       "      <td>Invest Cont</td>\n",
       "      <td>6200    4TH                          AV</td>\n",
       "      <td>6.0</td>\n",
       "      <td>35-44</td>\n",
       "    </tr>\n",
       "  </tbody>\n",
       "</table>\n",
       "</div>"
      ],
      "text/plain": [
       "       DR_NO   Date Rptd    DATE OCC  TIME OCC    AREA NAME   \n",
       "0  221412410  2022-06-15  2020-11-12      1700      Pacific  \\\n",
       "1  220314085  2022-07-22  2020-05-12      1110    Southwest   \n",
       "2  222013040  2022-08-06  2020-06-04      1620      Olympic   \n",
       "3  220614831  2022-08-18  2020-08-17      1200    Hollywood   \n",
       "4  231207725  2023-02-27  2020-01-27       635  77th Street   \n",
       "\n",
       "                                       Crm Cd Desc  Vict Age Vict Sex   \n",
       "0  THEFT FROM MOTOR VEHICLE - PETTY ($950 & UNDER)         0      NaN  \\\n",
       "1                                THEFT OF IDENTITY        27        F   \n",
       "2                                THEFT OF IDENTITY        60        M   \n",
       "3                                THEFT OF IDENTITY        28        M   \n",
       "4                                THEFT OF IDENTITY        37        M   \n",
       "\n",
       "  Vict Descent Weapon Desc  Status Desc   \n",
       "0          NaN         NaN  Invest Cont  \\\n",
       "1            B         NaN  Invest Cont   \n",
       "2            H         NaN  Invest Cont   \n",
       "3            H         NaN  Invest Cont   \n",
       "4            H         NaN  Invest Cont   \n",
       "\n",
       "                                   LOCATION  Hour Age Group  \n",
       "0  13600    MARINA POINT                 DR  17.0       NaN  \n",
       "1   2500 S  SYCAMORE                     AV  11.0     26-34  \n",
       "2   3300    SAN MARINO                   ST  16.0     55-64  \n",
       "3                         1900    TRANSIENT  12.0     26-34  \n",
       "4   6200    4TH                          AV   6.0     35-44  "
      ]
     },
     "execution_count": 29,
     "metadata": {},
     "output_type": "execute_result"
    }
   ],
   "source": [
    "# Identify the number of crimes committed against victims of different age groups.\n",
    "# Save as a pandas Series called victim_ages, with age group labels \"0-17\", \"18-25\", \"26-34\", \"35-44\", \"45-54\", \"55-64\",\n",
    "# and \"65+\" as the index and the frequency of crimes as the values.\n",
    "\n",
    "age_bins = [0, 17, 25, 34, 44, 54, 64, np.inf]\n",
    "age_labels = [\"0-17\", \"18-25\", \"26-34\", \"35-44\", \"45-54\", \"55-64\", \"65+\"]\n",
    "\n",
    "crimes['Age Group'] = pd.cut(crimes['Vict Age'], bins=age_bins, labels=age_labels)\n",
    "\n",
    "crimes.head()"
   ]
  },
  {
   "cell_type": "code",
   "execution_count": 30,
   "metadata": {},
   "outputs": [
    {
     "data": {
      "text/plain": [
       "Age Group\n",
       "NaN      62273\n",
       "26-34    47470\n",
       "35-44    42157\n",
       "45-54    28353\n",
       "18-25    28291\n",
       "55-64    20169\n",
       "65+      14747\n",
       "0-17      4528\n",
       "Name: count, dtype: int64"
      ]
     },
     "execution_count": 30,
     "metadata": {},
     "output_type": "execute_result"
    }
   ],
   "source": [
    "crimes['Age Group'].value_counts(dropna=False)"
   ]
  },
  {
   "cell_type": "code",
   "execution_count": 33,
   "metadata": {},
   "outputs": [
    {
     "data": {
      "text/plain": [
       "Age Group\n",
       "26-34    47470\n",
       "35-44    42157\n",
       "45-54    28353\n",
       "18-25    28291\n",
       "55-64    20169\n",
       "65+      14747\n",
       "0-17      4528\n",
       "Name: count, dtype: int64"
      ]
     },
     "execution_count": 33,
     "metadata": {},
     "output_type": "execute_result"
    }
   ],
   "source": [
    "victim_ages = crimes['Age Group'].value_counts()\n",
    "\n",
    "victim_ages"
   ]
  },
  {
   "cell_type": "markdown",
   "metadata": {},
   "source": [
    "## Clean Data"
   ]
  },
  {
   "cell_type": "code",
   "execution_count": 34,
   "metadata": {},
   "outputs": [
    {
     "name": "stdout",
     "output_type": "stream",
     "text": [
      "<class 'pandas.core.frame.DataFrame'>\n",
      "RangeIndex: 247988 entries, 0 to 247987\n",
      "Data columns (total 14 columns):\n",
      " #   Column        Non-Null Count   Dtype   \n",
      "---  ------        --------------   -----   \n",
      " 0   DR_NO         247988 non-null  int64   \n",
      " 1   Date Rptd     247988 non-null  object  \n",
      " 2   DATE OCC      247988 non-null  object  \n",
      " 3   TIME OCC      247988 non-null  int64   \n",
      " 4   AREA NAME     247988 non-null  object  \n",
      " 5   Crm Cd Desc   247988 non-null  object  \n",
      " 6   Vict Age      247988 non-null  int64   \n",
      " 7   Vict Sex      215740 non-null  object  \n",
      " 8   Vict Descent  215739 non-null  object  \n",
      " 9   Weapon Desc   80087 non-null   object  \n",
      " 10  Status Desc   247988 non-null  object  \n",
      " 11  LOCATION      247988 non-null  object  \n",
      " 12  Hour          247988 non-null  float64 \n",
      " 13  Age Group     185715 non-null  category\n",
      "dtypes: category(1), float64(1), int64(3), object(9)\n",
      "memory usage: 24.8+ MB\n"
     ]
    }
   ],
   "source": [
    "crimes.info()"
   ]
  },
  {
   "cell_type": "code",
   "execution_count": 35,
   "metadata": {},
   "outputs": [
    {
     "data": {
      "text/html": [
       "<div>\n",
       "<style scoped>\n",
       "    .dataframe tbody tr th:only-of-type {\n",
       "        vertical-align: middle;\n",
       "    }\n",
       "\n",
       "    .dataframe tbody tr th {\n",
       "        vertical-align: top;\n",
       "    }\n",
       "\n",
       "    .dataframe thead th {\n",
       "        text-align: right;\n",
       "    }\n",
       "</style>\n",
       "<table border=\"1\" class=\"dataframe\">\n",
       "  <thead>\n",
       "    <tr style=\"text-align: right;\">\n",
       "      <th></th>\n",
       "      <th>DR_NO</th>\n",
       "      <th>TIME OCC</th>\n",
       "      <th>Vict Age</th>\n",
       "      <th>Hour</th>\n",
       "    </tr>\n",
       "  </thead>\n",
       "  <tbody>\n",
       "    <tr>\n",
       "      <th>count</th>\n",
       "      <td>2.479880e+05</td>\n",
       "      <td>247988.000000</td>\n",
       "      <td>247988.000000</td>\n",
       "      <td>247988.000000</td>\n",
       "    </tr>\n",
       "    <tr>\n",
       "      <th>mean</th>\n",
       "      <td>2.256571e+08</td>\n",
       "      <td>1317.184662</td>\n",
       "      <td>29.954764</td>\n",
       "      <td>12.990116</td>\n",
       "    </tr>\n",
       "    <tr>\n",
       "      <th>std</th>\n",
       "      <td>5.042345e+06</td>\n",
       "      <td>655.090477</td>\n",
       "      <td>21.901016</td>\n",
       "      <td>6.548983</td>\n",
       "    </tr>\n",
       "    <tr>\n",
       "      <th>min</th>\n",
       "      <td>2.203000e+03</td>\n",
       "      <td>1.000000</td>\n",
       "      <td>-2.000000</td>\n",
       "      <td>0.000000</td>\n",
       "    </tr>\n",
       "    <tr>\n",
       "      <th>25%</th>\n",
       "      <td>2.210130e+08</td>\n",
       "      <td>845.000000</td>\n",
       "      <td>0.000000</td>\n",
       "      <td>8.000000</td>\n",
       "    </tr>\n",
       "    <tr>\n",
       "      <th>50%</th>\n",
       "      <td>2.220131e+08</td>\n",
       "      <td>1400.000000</td>\n",
       "      <td>31.000000</td>\n",
       "      <td>14.000000</td>\n",
       "    </tr>\n",
       "    <tr>\n",
       "      <th>75%</th>\n",
       "      <td>2.310058e+08</td>\n",
       "      <td>1843.000000</td>\n",
       "      <td>45.000000</td>\n",
       "      <td>18.000000</td>\n",
       "    </tr>\n",
       "    <tr>\n",
       "      <th>max</th>\n",
       "      <td>2.399165e+08</td>\n",
       "      <td>2359.000000</td>\n",
       "      <td>99.000000</td>\n",
       "      <td>23.000000</td>\n",
       "    </tr>\n",
       "  </tbody>\n",
       "</table>\n",
       "</div>"
      ],
      "text/plain": [
       "              DR_NO       TIME OCC       Vict Age           Hour\n",
       "count  2.479880e+05  247988.000000  247988.000000  247988.000000\n",
       "mean   2.256571e+08    1317.184662      29.954764      12.990116\n",
       "std    5.042345e+06     655.090477      21.901016       6.548983\n",
       "min    2.203000e+03       1.000000      -2.000000       0.000000\n",
       "25%    2.210130e+08     845.000000       0.000000       8.000000\n",
       "50%    2.220131e+08    1400.000000      31.000000      14.000000\n",
       "75%    2.310058e+08    1843.000000      45.000000      18.000000\n",
       "max    2.399165e+08    2359.000000      99.000000      23.000000"
      ]
     },
     "execution_count": 35,
     "metadata": {},
     "output_type": "execute_result"
    }
   ],
   "source": [
    "crimes.describe()"
   ]
  },
  {
   "cell_type": "markdown",
   "metadata": {},
   "source": [
    "### Negative Values for Victim's Age"
   ]
  },
  {
   "cell_type": "code",
   "execution_count": 37,
   "metadata": {},
   "outputs": [
    {
     "data": {
      "text/plain": [
       "(33, 14)"
      ]
     },
     "execution_count": 37,
     "metadata": {},
     "output_type": "execute_result"
    }
   ],
   "source": [
    "# Age less than 0 does not make sense.\n",
    "# There are 33 observations with negative age value.\n",
    "# Since the number of observations are less than 1% I will drop these rows.\n",
    "\n",
    "crimes[crimes['Vict Age'] < 0].shape"
   ]
  },
  {
   "cell_type": "code",
   "execution_count": 40,
   "metadata": {},
   "outputs": [],
   "source": [
    "crimes.drop(index=crimes[crimes['Vict Age'] < 0].index, inplace=True)\n",
    "crimes.reset_index(drop=True, inplace=True)"
   ]
  },
  {
   "cell_type": "code",
   "execution_count": 41,
   "metadata": {},
   "outputs": [
    {
     "data": {
      "text/html": [
       "<div>\n",
       "<style scoped>\n",
       "    .dataframe tbody tr th:only-of-type {\n",
       "        vertical-align: middle;\n",
       "    }\n",
       "\n",
       "    .dataframe tbody tr th {\n",
       "        vertical-align: top;\n",
       "    }\n",
       "\n",
       "    .dataframe thead th {\n",
       "        text-align: right;\n",
       "    }\n",
       "</style>\n",
       "<table border=\"1\" class=\"dataframe\">\n",
       "  <thead>\n",
       "    <tr style=\"text-align: right;\">\n",
       "      <th></th>\n",
       "      <th>DR_NO</th>\n",
       "      <th>TIME OCC</th>\n",
       "      <th>Vict Age</th>\n",
       "      <th>Hour</th>\n",
       "    </tr>\n",
       "  </thead>\n",
       "  <tbody>\n",
       "    <tr>\n",
       "      <th>count</th>\n",
       "      <td>2.479550e+05</td>\n",
       "      <td>247955.000000</td>\n",
       "      <td>247955.000000</td>\n",
       "      <td>247955.000000</td>\n",
       "    </tr>\n",
       "    <tr>\n",
       "      <th>mean</th>\n",
       "      <td>2.256567e+08</td>\n",
       "      <td>1317.207517</td>\n",
       "      <td>29.958912</td>\n",
       "      <td>12.990333</td>\n",
       "    </tr>\n",
       "    <tr>\n",
       "      <th>std</th>\n",
       "      <td>5.042295e+06</td>\n",
       "      <td>655.098327</td>\n",
       "      <td>21.899521</td>\n",
       "      <td>6.549062</td>\n",
       "    </tr>\n",
       "    <tr>\n",
       "      <th>min</th>\n",
       "      <td>2.203000e+03</td>\n",
       "      <td>1.000000</td>\n",
       "      <td>0.000000</td>\n",
       "      <td>0.000000</td>\n",
       "    </tr>\n",
       "    <tr>\n",
       "      <th>25%</th>\n",
       "      <td>2.210130e+08</td>\n",
       "      <td>845.000000</td>\n",
       "      <td>0.000000</td>\n",
       "      <td>8.000000</td>\n",
       "    </tr>\n",
       "    <tr>\n",
       "      <th>50%</th>\n",
       "      <td>2.220131e+08</td>\n",
       "      <td>1400.000000</td>\n",
       "      <td>31.000000</td>\n",
       "      <td>14.000000</td>\n",
       "    </tr>\n",
       "    <tr>\n",
       "      <th>75%</th>\n",
       "      <td>2.310058e+08</td>\n",
       "      <td>1843.000000</td>\n",
       "      <td>45.000000</td>\n",
       "      <td>18.000000</td>\n",
       "    </tr>\n",
       "    <tr>\n",
       "      <th>max</th>\n",
       "      <td>2.399165e+08</td>\n",
       "      <td>2359.000000</td>\n",
       "      <td>99.000000</td>\n",
       "      <td>23.000000</td>\n",
       "    </tr>\n",
       "  </tbody>\n",
       "</table>\n",
       "</div>"
      ],
      "text/plain": [
       "              DR_NO       TIME OCC       Vict Age           Hour\n",
       "count  2.479550e+05  247955.000000  247955.000000  247955.000000\n",
       "mean   2.256567e+08    1317.207517      29.958912      12.990333\n",
       "std    5.042295e+06     655.098327      21.899521       6.549062\n",
       "min    2.203000e+03       1.000000       0.000000       0.000000\n",
       "25%    2.210130e+08     845.000000       0.000000       8.000000\n",
       "50%    2.220131e+08    1400.000000      31.000000      14.000000\n",
       "75%    2.310058e+08    1843.000000      45.000000      18.000000\n",
       "max    2.399165e+08    2359.000000      99.000000      23.000000"
      ]
     },
     "execution_count": 41,
     "metadata": {},
     "output_type": "execute_result"
    }
   ],
   "source": [
    "crimes.describe()"
   ]
  },
  {
   "cell_type": "markdown",
   "metadata": {},
   "source": [
    "### Missing Values in Victim's Gender"
   ]
  },
  {
   "cell_type": "code",
   "execution_count": 57,
   "metadata": {},
   "outputs": [
    {
     "name": "stdout",
     "output_type": "stream",
     "text": [
      "<class 'pandas.core.frame.DataFrame'>\n",
      "RangeIndex: 247955 entries, 0 to 247954\n",
      "Data columns (total 14 columns):\n",
      " #   Column        Non-Null Count   Dtype   \n",
      "---  ------        --------------   -----   \n",
      " 0   DR_NO         247955 non-null  int64   \n",
      " 1   Date Rptd     247955 non-null  object  \n",
      " 2   DATE OCC      247955 non-null  object  \n",
      " 3   TIME OCC      247955 non-null  int64   \n",
      " 4   AREA NAME     247955 non-null  object  \n",
      " 5   Crm Cd Desc   247955 non-null  object  \n",
      " 6   Vict Age      247955 non-null  int64   \n",
      " 7   Vict Sex      247955 non-null  object  \n",
      " 8   Vict Descent  247955 non-null  object  \n",
      " 9   Weapon Desc   80084 non-null   object  \n",
      " 10  Status Desc   247955 non-null  object  \n",
      " 11  LOCATION      247955 non-null  object  \n",
      " 12  Hour          247955 non-null  float64 \n",
      " 13  Age Group     185715 non-null  category\n",
      "dtypes: category(1), float64(1), int64(3), object(9)\n",
      "memory usage: 24.8+ MB\n"
     ]
    }
   ],
   "source": [
    "crimes.info()"
   ]
  },
  {
   "cell_type": "code",
   "execution_count": 44,
   "metadata": {},
   "outputs": [
    {
     "data": {
      "text/plain": [
       "(32248, 14)"
      ]
     },
     "execution_count": 44,
     "metadata": {},
     "output_type": "execute_result"
    }
   ],
   "source": [
    "crimes[crimes['Vict Sex'].isna()].shape"
   ]
  },
  {
   "cell_type": "code",
   "execution_count": 46,
   "metadata": {},
   "outputs": [
    {
     "data": {
      "text/plain": [
       "Vict Sex\n",
       "M      101020\n",
       "F       90801\n",
       "NaN     32248\n",
       "X       23855\n",
       "H          30\n",
       "-           1\n",
       "Name: count, dtype: int64"
      ]
     },
     "execution_count": 46,
     "metadata": {},
     "output_type": "execute_result"
    }
   ],
   "source": [
    "crimes['Vict Sex'].value_counts(dropna=False)"
   ]
  },
  {
   "cell_type": "code",
   "execution_count": 51,
   "metadata": {},
   "outputs": [
    {
     "data": {
      "text/plain": [
       "Vict Sex\n",
       "M    101020\n",
       "F     90801\n",
       "X     56134\n",
       "Name: count, dtype: int64"
      ]
     },
     "execution_count": 51,
     "metadata": {},
     "output_type": "execute_result"
    }
   ],
   "source": [
    "# 'H', '-', and missing values will be replaced with 'X' for 'Unknown'\n",
    "\n",
    "crimes['Vict Sex'] = crimes['Vict Sex'].map(lambda x: 'X' if x=='H' or x=='-' else x)\n",
    "crimes['Vict Sex'].fillna('X', inplace=True)\n",
    "\n",
    "crimes['Vict Sex'].value_counts(dropna=False)"
   ]
  },
  {
   "cell_type": "markdown",
   "metadata": {},
   "source": [
    "### Missing Values in Victim's Descendent"
   ]
  },
  {
   "cell_type": "code",
   "execution_count": 55,
   "metadata": {},
   "outputs": [
    {
     "data": {
      "text/plain": [
       "Vict Descent\n",
       "H      75348\n",
       "W      48587\n",
       "B      35306\n",
       "NaN    32249\n",
       "X      26037\n",
       "O      19514\n",
       "A       5610\n",
       "K       1398\n",
       "F       1232\n",
       "C       1210\n",
       "J        434\n",
       "V        329\n",
       "I        322\n",
       "Z        145\n",
       "P         83\n",
       "U         77\n",
       "D         21\n",
       "L         20\n",
       "S         17\n",
       "G         14\n",
       "-          2\n",
       "Name: count, dtype: int64"
      ]
     },
     "execution_count": 55,
     "metadata": {},
     "output_type": "execute_result"
    }
   ],
   "source": [
    "crimes['Vict Descent'].value_counts(dropna=False)"
   ]
  },
  {
   "cell_type": "code",
   "execution_count": 56,
   "metadata": {},
   "outputs": [
    {
     "data": {
      "text/plain": [
       "Vict Descent\n",
       "H    75348\n",
       "X    58288\n",
       "W    48587\n",
       "B    35306\n",
       "O    19514\n",
       "A     5610\n",
       "K     1398\n",
       "F     1232\n",
       "C     1210\n",
       "J      434\n",
       "V      329\n",
       "I      322\n",
       "Z      145\n",
       "P       83\n",
       "U       77\n",
       "D       21\n",
       "L       20\n",
       "S       17\n",
       "G       14\n",
       "Name: count, dtype: int64"
      ]
     },
     "execution_count": 56,
     "metadata": {},
     "output_type": "execute_result"
    }
   ],
   "source": [
    "# '-' and missing values will be replaced with 'X' for 'Unknown'\n",
    "\n",
    "crimes['Vict Descent'] = crimes['Vict Descent'].map(lambda x: 'X' if x=='-' else x)\n",
    "crimes['Vict Descent'].fillna('X', inplace=True)\n",
    "\n",
    "crimes['Vict Descent'].value_counts(dropna=False)"
   ]
  },
  {
   "cell_type": "markdown",
   "metadata": {},
   "source": [
    "### Weapon Description Feature"
   ]
  },
  {
   "cell_type": "code",
   "execution_count": 58,
   "metadata": {},
   "outputs": [
    {
     "data": {
      "text/plain": [
       "Index(['DR_NO', 'Date Rptd', 'DATE OCC', 'TIME OCC', 'AREA NAME',\n",
       "       'Crm Cd Desc', 'Vict Age', 'Vict Sex', 'Vict Descent', 'Weapon Desc',\n",
       "       'Status Desc', 'LOCATION', 'Hour', 'Age Group'],\n",
       "      dtype='object')"
      ]
     },
     "execution_count": 58,
     "metadata": {},
     "output_type": "execute_result"
    }
   ],
   "source": [
    "crimes.columns"
   ]
  },
  {
   "cell_type": "code",
   "execution_count": 59,
   "metadata": {},
   "outputs": [
    {
     "data": {
      "text/plain": [
       "array([nan, 'VERBAL THREAT',\n",
       "       'STRONG-ARM (HANDS, FIST, FEET OR BODILY FORCE)',\n",
       "       'PHYSICAL PRESENCE', 'HAMMER', 'UNKNOWN WEAPON/OTHER WEAPON',\n",
       "       'OTHER KNIFE', 'HAND GUN', 'FIXED OBJECT',\n",
       "       'KNIFE WITH BLADE 6INCHES OR LESS', 'SEMI-AUTOMATIC PISTOL',\n",
       "       'BLUNT INSTRUMENT', 'UNKNOWN TYPE CUTTING INSTRUMENT', 'BOTTLE',\n",
       "       'CLUB/BAT', 'SHOTGUN', 'BELT FLAILING INSTRUMENT/CHAIN', 'MACHETE',\n",
       "       'ROCK/THROWN OBJECT', 'RIFLE', 'ASSAULT WEAPON/UZI/AK47/ETC',\n",
       "       'UNKNOWN FIREARM', 'SIMULATED GUN', 'PIPE/METAL PIPE', 'RAZOR',\n",
       "       'KNIFE WITH BLADE OVER 6 INCHES IN LENGTH', 'FOLDING KNIFE',\n",
       "       'VEHICLE', 'RAZOR BLADE', 'MACE/PEPPER SPRAY', 'TIRE IRON',\n",
       "       'EXPLOXIVE DEVICE', 'STICK', 'SCISSORS', 'KITCHEN KNIFE',\n",
       "       'REVOLVER', 'FIRE', 'AIR PISTOL/REVOLVER/RIFLE/BB GUN', 'STUN GUN',\n",
       "       'OTHER FIREARM', 'CONCRETE BLOCK/BRICK', 'SWITCH BLADE',\n",
       "       'ICE PICK', 'CAUSTIC CHEMICAL/POISON', 'OTHER CUTTING INSTRUMENT',\n",
       "       'SAWED OFF RIFLE/SHOTGUN', 'DOG/ANIMAL (SIC ANIMAL ON)', 'GLASS',\n",
       "       'DIRK/DAGGER', 'BRASS KNUCKLES', 'TOY GUN', 'BOW AND ARROW', 'AXE',\n",
       "       'HECKLER & KOCH 93 SEMIAUTOMATIC ASSAULT RIFLE', 'SCREWDRIVER',\n",
       "       'ROPE/LIGATURE', 'SCALDING LIQUID',\n",
       "       'UNK TYPE SEMIAUTOMATIC ASSAULT RIFLE', 'BOMB THREAT',\n",
       "       'LIQUOR/DRUGS', 'STARTER PISTOL/REVOLVER', 'SWORD', 'BOARD',\n",
       "       'DEMAND NOTE', 'ANTIQUE FIREARM', 'STRAIGHT RAZOR',\n",
       "       'SEMI-AUTOMATIC RIFLE', 'AUTOMATIC WEAPON/SUB-MACHINE GUN',\n",
       "       'SYRINGE', 'CLEAVER', 'RELIC FIREARM', 'BLACKJACK',\n",
       "       'M-14 SEMIAUTOMATIC ASSAULT RIFLE', 'BOWIE KNIFE',\n",
       "       'MAC-10 SEMIAUTOMATIC ASSAULT WEAPON'], dtype=object)"
      ]
     },
     "execution_count": 59,
     "metadata": {},
     "output_type": "execute_result"
    }
   ],
   "source": [
    "crimes['Weapon Desc'].unique()"
   ]
  },
  {
   "cell_type": "code",
   "execution_count": 61,
   "metadata": {},
   "outputs": [
    {
     "data": {
      "text/html": [
       "<div>\n",
       "<style scoped>\n",
       "    .dataframe tbody tr th:only-of-type {\n",
       "        vertical-align: middle;\n",
       "    }\n",
       "\n",
       "    .dataframe tbody tr th {\n",
       "        vertical-align: top;\n",
       "    }\n",
       "\n",
       "    .dataframe thead th {\n",
       "        text-align: right;\n",
       "    }\n",
       "</style>\n",
       "<table border=\"1\" class=\"dataframe\">\n",
       "  <thead>\n",
       "    <tr style=\"text-align: right;\">\n",
       "      <th></th>\n",
       "      <th>DR_NO</th>\n",
       "      <th>Date Rptd</th>\n",
       "      <th>DATE OCC</th>\n",
       "      <th>TIME OCC</th>\n",
       "      <th>AREA NAME</th>\n",
       "      <th>Crm Cd Desc</th>\n",
       "      <th>Vict Age</th>\n",
       "      <th>Vict Sex</th>\n",
       "      <th>Vict Descent</th>\n",
       "      <th>Weapon Desc</th>\n",
       "      <th>Status Desc</th>\n",
       "      <th>LOCATION</th>\n",
       "      <th>Hour</th>\n",
       "      <th>Age Group</th>\n",
       "    </tr>\n",
       "  </thead>\n",
       "  <tbody>\n",
       "    <tr>\n",
       "      <th>0</th>\n",
       "      <td>221412410</td>\n",
       "      <td>2022-06-15</td>\n",
       "      <td>2020-11-12</td>\n",
       "      <td>1700</td>\n",
       "      <td>Pacific</td>\n",
       "      <td>THEFT FROM MOTOR VEHICLE - PETTY ($950 &amp; UNDER)</td>\n",
       "      <td>0</td>\n",
       "      <td>X</td>\n",
       "      <td>X</td>\n",
       "      <td>NaN</td>\n",
       "      <td>Invest Cont</td>\n",
       "      <td>13600    MARINA POINT                 DR</td>\n",
       "      <td>17.0</td>\n",
       "      <td>NaN</td>\n",
       "    </tr>\n",
       "    <tr>\n",
       "      <th>1</th>\n",
       "      <td>220314085</td>\n",
       "      <td>2022-07-22</td>\n",
       "      <td>2020-05-12</td>\n",
       "      <td>1110</td>\n",
       "      <td>Southwest</td>\n",
       "      <td>THEFT OF IDENTITY</td>\n",
       "      <td>27</td>\n",
       "      <td>F</td>\n",
       "      <td>B</td>\n",
       "      <td>NaN</td>\n",
       "      <td>Invest Cont</td>\n",
       "      <td>2500 S  SYCAMORE                     AV</td>\n",
       "      <td>11.0</td>\n",
       "      <td>26-34</td>\n",
       "    </tr>\n",
       "    <tr>\n",
       "      <th>2</th>\n",
       "      <td>222013040</td>\n",
       "      <td>2022-08-06</td>\n",
       "      <td>2020-06-04</td>\n",
       "      <td>1620</td>\n",
       "      <td>Olympic</td>\n",
       "      <td>THEFT OF IDENTITY</td>\n",
       "      <td>60</td>\n",
       "      <td>M</td>\n",
       "      <td>H</td>\n",
       "      <td>NaN</td>\n",
       "      <td>Invest Cont</td>\n",
       "      <td>3300    SAN MARINO                   ST</td>\n",
       "      <td>16.0</td>\n",
       "      <td>55-64</td>\n",
       "    </tr>\n",
       "    <tr>\n",
       "      <th>3</th>\n",
       "      <td>220614831</td>\n",
       "      <td>2022-08-18</td>\n",
       "      <td>2020-08-17</td>\n",
       "      <td>1200</td>\n",
       "      <td>Hollywood</td>\n",
       "      <td>THEFT OF IDENTITY</td>\n",
       "      <td>28</td>\n",
       "      <td>M</td>\n",
       "      <td>H</td>\n",
       "      <td>NaN</td>\n",
       "      <td>Invest Cont</td>\n",
       "      <td>1900    TRANSIENT</td>\n",
       "      <td>12.0</td>\n",
       "      <td>26-34</td>\n",
       "    </tr>\n",
       "    <tr>\n",
       "      <th>4</th>\n",
       "      <td>231207725</td>\n",
       "      <td>2023-02-27</td>\n",
       "      <td>2020-01-27</td>\n",
       "      <td>635</td>\n",
       "      <td>77th Street</td>\n",
       "      <td>THEFT OF IDENTITY</td>\n",
       "      <td>37</td>\n",
       "      <td>M</td>\n",
       "      <td>H</td>\n",
       "      <td>NaN</td>\n",
       "      <td>Invest Cont</td>\n",
       "      <td>6200    4TH                          AV</td>\n",
       "      <td>6.0</td>\n",
       "      <td>35-44</td>\n",
       "    </tr>\n",
       "  </tbody>\n",
       "</table>\n",
       "</div>"
      ],
      "text/plain": [
       "       DR_NO   Date Rptd    DATE OCC  TIME OCC    AREA NAME   \n",
       "0  221412410  2022-06-15  2020-11-12      1700      Pacific  \\\n",
       "1  220314085  2022-07-22  2020-05-12      1110    Southwest   \n",
       "2  222013040  2022-08-06  2020-06-04      1620      Olympic   \n",
       "3  220614831  2022-08-18  2020-08-17      1200    Hollywood   \n",
       "4  231207725  2023-02-27  2020-01-27       635  77th Street   \n",
       "\n",
       "                                       Crm Cd Desc  Vict Age Vict Sex   \n",
       "0  THEFT FROM MOTOR VEHICLE - PETTY ($950 & UNDER)         0        X  \\\n",
       "1                                THEFT OF IDENTITY        27        F   \n",
       "2                                THEFT OF IDENTITY        60        M   \n",
       "3                                THEFT OF IDENTITY        28        M   \n",
       "4                                THEFT OF IDENTITY        37        M   \n",
       "\n",
       "  Vict Descent Weapon Desc  Status Desc   \n",
       "0            X         NaN  Invest Cont  \\\n",
       "1            B         NaN  Invest Cont   \n",
       "2            H         NaN  Invest Cont   \n",
       "3            H         NaN  Invest Cont   \n",
       "4            H         NaN  Invest Cont   \n",
       "\n",
       "                                   LOCATION  Hour Age Group  \n",
       "0  13600    MARINA POINT                 DR  17.0       NaN  \n",
       "1   2500 S  SYCAMORE                     AV  11.0     26-34  \n",
       "2   3300    SAN MARINO                   ST  16.0     55-64  \n",
       "3                         1900    TRANSIENT  12.0     26-34  \n",
       "4   6200    4TH                          AV   6.0     35-44  "
      ]
     },
     "execution_count": 61,
     "metadata": {},
     "output_type": "execute_result"
    }
   ],
   "source": [
    "# Filter and look more into missing weapon descriptions.\n",
    "\n",
    "null_weapons = crimes[crimes['Weapon Desc'].isna()]\n",
    "\n",
    "null_weapons.head()"
   ]
  },
  {
   "cell_type": "code",
   "execution_count": 66,
   "metadata": {},
   "outputs": [
    {
     "data": {
      "text/html": [
       "<div>\n",
       "<style scoped>\n",
       "    .dataframe tbody tr th:only-of-type {\n",
       "        vertical-align: middle;\n",
       "    }\n",
       "\n",
       "    .dataframe tbody tr th {\n",
       "        vertical-align: top;\n",
       "    }\n",
       "\n",
       "    .dataframe thead th {\n",
       "        text-align: right;\n",
       "    }\n",
       "</style>\n",
       "<table border=\"1\" class=\"dataframe\">\n",
       "  <thead>\n",
       "    <tr style=\"text-align: right;\">\n",
       "      <th></th>\n",
       "      <th>Crm Cd Desc</th>\n",
       "      <th>count</th>\n",
       "    </tr>\n",
       "  </thead>\n",
       "  <tbody>\n",
       "    <tr>\n",
       "      <th>0</th>\n",
       "      <td>VEHICLE - STOLEN</td>\n",
       "      <td>25784</td>\n",
       "    </tr>\n",
       "    <tr>\n",
       "      <th>1</th>\n",
       "      <td>THEFT OF IDENTITY</td>\n",
       "      <td>23004</td>\n",
       "    </tr>\n",
       "    <tr>\n",
       "      <th>2</th>\n",
       "      <td>BURGLARY FROM VEHICLE</td>\n",
       "      <td>13498</td>\n",
       "    </tr>\n",
       "    <tr>\n",
       "      <th>3</th>\n",
       "      <td>BURGLARY</td>\n",
       "      <td>13189</td>\n",
       "    </tr>\n",
       "    <tr>\n",
       "      <th>4</th>\n",
       "      <td>VANDALISM - FELONY ($400 &amp; OVER, ALL CHURCH VA...</td>\n",
       "      <td>12704</td>\n",
       "    </tr>\n",
       "  </tbody>\n",
       "</table>\n",
       "</div>"
      ],
      "text/plain": [
       "                                         Crm Cd Desc  count\n",
       "0                                   VEHICLE - STOLEN  25784\n",
       "1                                  THEFT OF IDENTITY  23004\n",
       "2                              BURGLARY FROM VEHICLE  13498\n",
       "3                                           BURGLARY  13189\n",
       "4  VANDALISM - FELONY ($400 & OVER, ALL CHURCH VA...  12704"
      ]
     },
     "execution_count": 66,
     "metadata": {},
     "output_type": "execute_result"
    }
   ],
   "source": [
    "null_weapons['Crm Cd Desc'].value_counts().reset_index().head(5)"
   ]
  },
  {
   "cell_type": "markdown",
   "metadata": {},
   "source": [
    "Interesting! The most common crimes that are missing the `Weapon Desc` values are 'Vehicle - Stolen' and 'Theft of Identity'. Identity theft usually occurs without the victim knowing, so there's no weapon involved. Vehicle theft might happen with or without the victim's knowledge, as criminals sometimes use threats. So, for 'Identity Theft,' I'll mark 'No Weapon' in the weapon description, and for the rest of the missing data, I'll label it as 'Unknown'."
   ]
  },
  {
   "cell_type": "code",
   "execution_count": 67,
   "metadata": {},
   "outputs": [],
   "source": [
    "crimes['Weapon Desc'] = np.where(crimes['Crm Cd Desc']=='THEFT OF IDENTITY', 'NO WEAPON', crimes['Crm Cd Desc'])\n",
    "crimes['Weapon Desc'] = crimes['Weapon Desc'].fillna('UNKNOWN')"
   ]
  },
  {
   "cell_type": "code",
   "execution_count": 68,
   "metadata": {},
   "outputs": [
    {
     "name": "stdout",
     "output_type": "stream",
     "text": [
      "<class 'pandas.core.frame.DataFrame'>\n",
      "RangeIndex: 247955 entries, 0 to 247954\n",
      "Data columns (total 14 columns):\n",
      " #   Column        Non-Null Count   Dtype   \n",
      "---  ------        --------------   -----   \n",
      " 0   DR_NO         247955 non-null  int64   \n",
      " 1   Date Rptd     247955 non-null  object  \n",
      " 2   DATE OCC      247955 non-null  object  \n",
      " 3   TIME OCC      247955 non-null  int64   \n",
      " 4   AREA NAME     247955 non-null  object  \n",
      " 5   Crm Cd Desc   247955 non-null  object  \n",
      " 6   Vict Age      247955 non-null  int64   \n",
      " 7   Vict Sex      247955 non-null  object  \n",
      " 8   Vict Descent  247955 non-null  object  \n",
      " 9   Weapon Desc   247955 non-null  object  \n",
      " 10  Status Desc   247955 non-null  object  \n",
      " 11  LOCATION      247955 non-null  object  \n",
      " 12  Hour          247955 non-null  float64 \n",
      " 13  Age Group     185715 non-null  category\n",
      "dtypes: category(1), float64(1), int64(3), object(9)\n",
      "memory usage: 24.8+ MB\n"
     ]
    }
   ],
   "source": [
    "crimes.info()"
   ]
  },
  {
   "cell_type": "markdown",
   "metadata": {},
   "source": [
    "### Age Group"
   ]
  },
  {
   "cell_type": "code",
   "execution_count": 70,
   "metadata": {},
   "outputs": [
    {
     "data": {
      "text/html": [
       "<div>\n",
       "<style scoped>\n",
       "    .dataframe tbody tr th:only-of-type {\n",
       "        vertical-align: middle;\n",
       "    }\n",
       "\n",
       "    .dataframe tbody tr th {\n",
       "        vertical-align: top;\n",
       "    }\n",
       "\n",
       "    .dataframe thead th {\n",
       "        text-align: right;\n",
       "    }\n",
       "</style>\n",
       "<table border=\"1\" class=\"dataframe\">\n",
       "  <thead>\n",
       "    <tr style=\"text-align: right;\">\n",
       "      <th></th>\n",
       "      <th>DR_NO</th>\n",
       "      <th>TIME OCC</th>\n",
       "      <th>Vict Age</th>\n",
       "      <th>Hour</th>\n",
       "    </tr>\n",
       "  </thead>\n",
       "  <tbody>\n",
       "    <tr>\n",
       "      <th>count</th>\n",
       "      <td>6.224000e+04</td>\n",
       "      <td>62240.000000</td>\n",
       "      <td>62240.0</td>\n",
       "      <td>62240.000000</td>\n",
       "    </tr>\n",
       "    <tr>\n",
       "      <th>mean</th>\n",
       "      <td>2.258911e+08</td>\n",
       "      <td>1368.479370</td>\n",
       "      <td>0.0</td>\n",
       "      <td>13.519232</td>\n",
       "    </tr>\n",
       "    <tr>\n",
       "      <th>std</th>\n",
       "      <td>5.108615e+06</td>\n",
       "      <td>650.453304</td>\n",
       "      <td>0.0</td>\n",
       "      <td>6.513358</td>\n",
       "    </tr>\n",
       "    <tr>\n",
       "      <th>min</th>\n",
       "      <td>2.203000e+03</td>\n",
       "      <td>1.000000</td>\n",
       "      <td>0.0</td>\n",
       "      <td>0.000000</td>\n",
       "    </tr>\n",
       "    <tr>\n",
       "      <th>25%</th>\n",
       "      <td>2.211107e+08</td>\n",
       "      <td>900.000000</td>\n",
       "      <td>0.0</td>\n",
       "      <td>9.000000</td>\n",
       "    </tr>\n",
       "    <tr>\n",
       "      <th>50%</th>\n",
       "      <td>2.220173e+08</td>\n",
       "      <td>1500.000000</td>\n",
       "      <td>0.0</td>\n",
       "      <td>15.000000</td>\n",
       "    </tr>\n",
       "    <tr>\n",
       "      <th>75%</th>\n",
       "      <td>2.310104e+08</td>\n",
       "      <td>1900.000000</td>\n",
       "      <td>0.0</td>\n",
       "      <td>19.000000</td>\n",
       "    </tr>\n",
       "    <tr>\n",
       "      <th>max</th>\n",
       "      <td>2.399165e+08</td>\n",
       "      <td>2359.000000</td>\n",
       "      <td>0.0</td>\n",
       "      <td>23.000000</td>\n",
       "    </tr>\n",
       "  </tbody>\n",
       "</table>\n",
       "</div>"
      ],
      "text/plain": [
       "              DR_NO      TIME OCC  Vict Age          Hour\n",
       "count  6.224000e+04  62240.000000   62240.0  62240.000000\n",
       "mean   2.258911e+08   1368.479370       0.0     13.519232\n",
       "std    5.108615e+06    650.453304       0.0      6.513358\n",
       "min    2.203000e+03      1.000000       0.0      0.000000\n",
       "25%    2.211107e+08    900.000000       0.0      9.000000\n",
       "50%    2.220173e+08   1500.000000       0.0     15.000000\n",
       "75%    2.310104e+08   1900.000000       0.0     19.000000\n",
       "max    2.399165e+08   2359.000000       0.0     23.000000"
      ]
     },
     "execution_count": 70,
     "metadata": {},
     "output_type": "execute_result"
    }
   ],
   "source": [
    "crimes[crimes['Age Group'].isna()].describe()"
   ]
  },
  {
   "cell_type": "code",
   "execution_count": 71,
   "metadata": {},
   "outputs": [],
   "source": [
    "crimes['Age Group'].fillna('0-17', inplace=True)"
   ]
  },
  {
   "cell_type": "code",
   "execution_count": 72,
   "metadata": {},
   "outputs": [
    {
     "data": {
      "text/plain": [
       "Age Group\n",
       "0-17     66768\n",
       "26-34    47470\n",
       "35-44    42157\n",
       "45-54    28353\n",
       "18-25    28291\n",
       "55-64    20169\n",
       "65+      14747\n",
       "Name: count, dtype: int64"
      ]
     },
     "execution_count": 72,
     "metadata": {},
     "output_type": "execute_result"
    }
   ],
   "source": [
    "crimes['Age Group'].value_counts()"
   ]
  },
  {
   "cell_type": "markdown",
   "metadata": {},
   "source": [
    "### Visualization"
   ]
  },
  {
   "cell_type": "code",
   "execution_count": 73,
   "metadata": {},
   "outputs": [
    {
     "data": {
      "text/html": [
       "<div>\n",
       "<style scoped>\n",
       "    .dataframe tbody tr th:only-of-type {\n",
       "        vertical-align: middle;\n",
       "    }\n",
       "\n",
       "    .dataframe tbody tr th {\n",
       "        vertical-align: top;\n",
       "    }\n",
       "\n",
       "    .dataframe thead th {\n",
       "        text-align: right;\n",
       "    }\n",
       "</style>\n",
       "<table border=\"1\" class=\"dataframe\">\n",
       "  <thead>\n",
       "    <tr style=\"text-align: right;\">\n",
       "      <th></th>\n",
       "      <th>DR_NO</th>\n",
       "      <th>Date Rptd</th>\n",
       "      <th>DATE OCC</th>\n",
       "      <th>TIME OCC</th>\n",
       "      <th>AREA NAME</th>\n",
       "      <th>Crm Cd Desc</th>\n",
       "      <th>Vict Age</th>\n",
       "      <th>Vict Sex</th>\n",
       "      <th>Vict Descent</th>\n",
       "      <th>Weapon Desc</th>\n",
       "      <th>Status Desc</th>\n",
       "      <th>LOCATION</th>\n",
       "      <th>Hour</th>\n",
       "      <th>Age Group</th>\n",
       "    </tr>\n",
       "  </thead>\n",
       "  <tbody>\n",
       "    <tr>\n",
       "      <th>0</th>\n",
       "      <td>221412410</td>\n",
       "      <td>2022-06-15</td>\n",
       "      <td>2020-11-12</td>\n",
       "      <td>1700</td>\n",
       "      <td>Pacific</td>\n",
       "      <td>THEFT FROM MOTOR VEHICLE - PETTY ($950 &amp; UNDER)</td>\n",
       "      <td>0</td>\n",
       "      <td>X</td>\n",
       "      <td>X</td>\n",
       "      <td>THEFT FROM MOTOR VEHICLE - PETTY ($950 &amp; UNDER)</td>\n",
       "      <td>Invest Cont</td>\n",
       "      <td>13600    MARINA POINT                 DR</td>\n",
       "      <td>17.0</td>\n",
       "      <td>0-17</td>\n",
       "    </tr>\n",
       "    <tr>\n",
       "      <th>1</th>\n",
       "      <td>220314085</td>\n",
       "      <td>2022-07-22</td>\n",
       "      <td>2020-05-12</td>\n",
       "      <td>1110</td>\n",
       "      <td>Southwest</td>\n",
       "      <td>THEFT OF IDENTITY</td>\n",
       "      <td>27</td>\n",
       "      <td>F</td>\n",
       "      <td>B</td>\n",
       "      <td>NO WEAPON</td>\n",
       "      <td>Invest Cont</td>\n",
       "      <td>2500 S  SYCAMORE                     AV</td>\n",
       "      <td>11.0</td>\n",
       "      <td>26-34</td>\n",
       "    </tr>\n",
       "    <tr>\n",
       "      <th>2</th>\n",
       "      <td>222013040</td>\n",
       "      <td>2022-08-06</td>\n",
       "      <td>2020-06-04</td>\n",
       "      <td>1620</td>\n",
       "      <td>Olympic</td>\n",
       "      <td>THEFT OF IDENTITY</td>\n",
       "      <td>60</td>\n",
       "      <td>M</td>\n",
       "      <td>H</td>\n",
       "      <td>NO WEAPON</td>\n",
       "      <td>Invest Cont</td>\n",
       "      <td>3300    SAN MARINO                   ST</td>\n",
       "      <td>16.0</td>\n",
       "      <td>55-64</td>\n",
       "    </tr>\n",
       "    <tr>\n",
       "      <th>3</th>\n",
       "      <td>220614831</td>\n",
       "      <td>2022-08-18</td>\n",
       "      <td>2020-08-17</td>\n",
       "      <td>1200</td>\n",
       "      <td>Hollywood</td>\n",
       "      <td>THEFT OF IDENTITY</td>\n",
       "      <td>28</td>\n",
       "      <td>M</td>\n",
       "      <td>H</td>\n",
       "      <td>NO WEAPON</td>\n",
       "      <td>Invest Cont</td>\n",
       "      <td>1900    TRANSIENT</td>\n",
       "      <td>12.0</td>\n",
       "      <td>26-34</td>\n",
       "    </tr>\n",
       "    <tr>\n",
       "      <th>4</th>\n",
       "      <td>231207725</td>\n",
       "      <td>2023-02-27</td>\n",
       "      <td>2020-01-27</td>\n",
       "      <td>635</td>\n",
       "      <td>77th Street</td>\n",
       "      <td>THEFT OF IDENTITY</td>\n",
       "      <td>37</td>\n",
       "      <td>M</td>\n",
       "      <td>H</td>\n",
       "      <td>NO WEAPON</td>\n",
       "      <td>Invest Cont</td>\n",
       "      <td>6200    4TH                          AV</td>\n",
       "      <td>6.0</td>\n",
       "      <td>35-44</td>\n",
       "    </tr>\n",
       "  </tbody>\n",
       "</table>\n",
       "</div>"
      ],
      "text/plain": [
       "       DR_NO   Date Rptd    DATE OCC  TIME OCC    AREA NAME   \n",
       "0  221412410  2022-06-15  2020-11-12      1700      Pacific  \\\n",
       "1  220314085  2022-07-22  2020-05-12      1110    Southwest   \n",
       "2  222013040  2022-08-06  2020-06-04      1620      Olympic   \n",
       "3  220614831  2022-08-18  2020-08-17      1200    Hollywood   \n",
       "4  231207725  2023-02-27  2020-01-27       635  77th Street   \n",
       "\n",
       "                                       Crm Cd Desc  Vict Age Vict Sex   \n",
       "0  THEFT FROM MOTOR VEHICLE - PETTY ($950 & UNDER)         0        X  \\\n",
       "1                                THEFT OF IDENTITY        27        F   \n",
       "2                                THEFT OF IDENTITY        60        M   \n",
       "3                                THEFT OF IDENTITY        28        M   \n",
       "4                                THEFT OF IDENTITY        37        M   \n",
       "\n",
       "  Vict Descent                                      Weapon Desc  Status Desc   \n",
       "0            X  THEFT FROM MOTOR VEHICLE - PETTY ($950 & UNDER)  Invest Cont  \\\n",
       "1            B                                        NO WEAPON  Invest Cont   \n",
       "2            H                                        NO WEAPON  Invest Cont   \n",
       "3            H                                        NO WEAPON  Invest Cont   \n",
       "4            H                                        NO WEAPON  Invest Cont   \n",
       "\n",
       "                                   LOCATION  Hour Age Group  \n",
       "0  13600    MARINA POINT                 DR  17.0      0-17  \n",
       "1   2500 S  SYCAMORE                     AV  11.0     26-34  \n",
       "2   3300    SAN MARINO                   ST  16.0     55-64  \n",
       "3                         1900    TRANSIENT  12.0     26-34  \n",
       "4   6200    4TH                          AV   6.0     35-44  "
      ]
     },
     "execution_count": 73,
     "metadata": {},
     "output_type": "execute_result"
    }
   ],
   "source": [
    "crimes.head()"
   ]
  },
  {
   "cell_type": "code",
   "execution_count": 109,
   "metadata": {},
   "outputs": [
    {
     "data": {
      "image/png": "[encoded data removed]",
      "text/plain": [
       "<Figure size 640x480 with 1 Axes>"
      ]
     },
     "metadata": {},
     "output_type": "display_data"
    }
   ],
   "source": [
    "sns.countplot(crimes, x='Age Group', hue='Vict Sex')\n",
    "plt.xlabel(\"Age Group of the Victims\")\n",
    "plt.ylabel(\"Number of Crimes\")\n",
    "plt.title('Number of Victims by Age Group in LA')\n",
    "\n",
    "plt.show()"
   ]
  },
  {
   "cell_type": "markdown",
   "metadata": {},
   "source": [
    "Most victims are aged between 0 and 17. This suggests that minors are more vulnerable to crime compared to adults. The number of victims decreases in the 18-25 age group but rises again in the 26-34 age group before declining once more.\n",
    "\n",
    "In the age group of 0-17, most genders are listed as 'Unknown.' Females aged 18-25 and 26-34 are more vulnerable to crime than males. However, the number of male victims starts to increase from the age group of 35-44."
   ]
  },
  {
   "cell_type": "code",
   "execution_count": 122,
   "metadata": {},
   "outputs": [
    {
     "data": {
      "image/png": "[encoded data removed]",
      "text/plain": [
       "<Figure size 1800x600 with 1 Axes>"
      ]
     },
     "metadata": {},
     "output_type": "display_data"
    }
   ],
   "source": [
    "plt.figure(figsize=(18,6))\n",
    "sns.countplot(crimes, x='AREA NAME', hue='Vict Sex', palette='Set2')\n",
    "plt.xlabel(\"Area Name\")\n",
    "plt.xticks(rotation=45, ha='right')\n",
    "plt.ylabel(\"Number of Crimes\")\n",
    "plt.title('Number of Victims by Gender and Area in LA')\n",
    "\n",
    "plt.show()"
   ]
  },
  {
   "cell_type": "markdown",
   "metadata": {},
   "source": [
    "In areas like 'Southwest,' '77th Street,' and 'Southwest,' there are more female victims. Across most areas, there are more male victims, but 'Central' has the highest number of male victims."
   ]
  },
  {
   "cell_type": "code",
   "execution_count": 150,
   "metadata": {},
   "outputs": [
    {
     "data": {
      "text/plain": [
       "Vict Descent_simple\n",
       "H    75348\n",
       "X    58288\n",
       "W    48587\n",
       "B    35306\n",
       "O    30426\n",
       "Name: count, dtype: int64"
      ]
     },
     "execution_count": 150,
     "metadata": {},
     "output_type": "execute_result"
    }
   ],
   "source": [
    "other_race = ['C', 'K', 'V', 'A', 'F', 'J', 'P', 'I', 'S', 'Z', 'U', 'L', 'G', 'D']\n",
    "crimes['Vict Descent_simple'] = crimes['Vict Descent'].map(lambda x: 'O' if x in other_race else x)\n",
    "\n",
    "crimes['Vict Descent_simple'].value_counts()"
   ]
  },
  {
   "cell_type": "code",
   "execution_count": 151,
   "metadata": {},
   "outputs": [
    {
     "data": {
      "text/html": [
       "<div>\n",
       "<style scoped>\n",
       "    .dataframe tbody tr th:only-of-type {\n",
       "        vertical-align: middle;\n",
       "    }\n",
       "\n",
       "    .dataframe tbody tr th {\n",
       "        vertical-align: top;\n",
       "    }\n",
       "\n",
       "    .dataframe thead th {\n",
       "        text-align: right;\n",
       "    }\n",
       "</style>\n",
       "<table border=\"1\" class=\"dataframe\">\n",
       "  <thead>\n",
       "    <tr style=\"text-align: right;\">\n",
       "      <th></th>\n",
       "      <th>Vict Descent_simple</th>\n",
       "      <th>proportion</th>\n",
       "    </tr>\n",
       "  </thead>\n",
       "  <tbody>\n",
       "    <tr>\n",
       "      <th>0</th>\n",
       "      <td>H</td>\n",
       "      <td>30.387772</td>\n",
       "    </tr>\n",
       "    <tr>\n",
       "      <th>1</th>\n",
       "      <td>X</td>\n",
       "      <td>23.507491</td>\n",
       "    </tr>\n",
       "    <tr>\n",
       "      <th>2</th>\n",
       "      <td>W</td>\n",
       "      <td>19.595088</td>\n",
       "    </tr>\n",
       "    <tr>\n",
       "      <th>3</th>\n",
       "      <td>B</td>\n",
       "      <td>14.238874</td>\n",
       "    </tr>\n",
       "    <tr>\n",
       "      <th>4</th>\n",
       "      <td>O</td>\n",
       "      <td>12.270775</td>\n",
       "    </tr>\n",
       "  </tbody>\n",
       "</table>\n",
       "</div>"
      ],
      "text/plain": [
       "  Vict Descent_simple  proportion\n",
       "0                   H   30.387772\n",
       "1                   X   23.507491\n",
       "2                   W   19.595088\n",
       "3                   B   14.238874\n",
       "4                   O   12.270775"
      ]
     },
     "execution_count": 151,
     "metadata": {},
     "output_type": "execute_result"
    }
   ],
   "source": [
    "vict_race = crimes['Vict Descent_simple'].value_counts(normalize=True).reset_index()\n",
    "vict_race['proportion'] = vict_race['proportion'] * 100\n",
    "vict_race"
   ]
  },
  {
   "cell_type": "code",
   "execution_count": 159,
   "metadata": {},
   "outputs": [
    {
     "data": {
      "image/png": "[encoded data removed]",
      "text/plain": [
       "<Figure size 640x480 with 1 Axes>"
      ]
     },
     "metadata": {},
     "output_type": "display_data"
    }
   ],
   "source": [
    "race_labels = ['Hispanic','Unknown','White','Black','Other']\n",
    "race_size = list(vict_race['proportion'].values)\n",
    "\n",
    "colors = ['deepskyblue','gold','yellowgreen','orchid','coral']\n",
    "\n",
    "fig, ax = plt.subplots()\n",
    "ax.pie(race_size, labels=race_labels, autopct='%1.1f%%', colors=colors)\n",
    "ax.set_title(\"Pie Chart of the Victim's Race\")\n",
    "\n",
    "plt.show()"
   ]
  }
 ],
 "metadata": {
  "kernelspec": {
   "display_name": "Python 3",
   "language": "python",
   "name": "python3"
  },
  "language_info": {
   "codemirror_mode": {
    "name": "ipython",
    "version": 3
   },
   "file_extension": ".py",
   "mimetype": "text/x-python",
   "name": "python",
   "nbconvert_exporter": "python",
   "pygments_lexer": "ipython3",
   "version": "3.11.3"
  }
 },
 "nbformat": 4,
 "nbformat_minor": 2
}
